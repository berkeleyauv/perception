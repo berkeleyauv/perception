{
 "cells": [
  {
   "cell_type": "code",
   "execution_count": 1,
   "metadata": {},
   "outputs": [],
   "source": [
    "%matplotlib inline \n",
    "import numpy as np\n",
    "import numpy.linalg as LA\n",
    "import math\n",
    "import scipy\n",
    "import matplotlib.pyplot as plt\n",
    "import matplotlib\n",
    "#ignore divide by 0 warnings\n",
    "import warnings\n",
    "warnings.filterwarnings('ignore')"
   ]
  },
  {
   "cell_type": "code",
   "execution_count": 2,
   "metadata": {},
   "outputs": [
    {
     "name": "stdout",
     "output_type": "stream",
     "text": [
      "Robot x, y, z pos:  [77.64724215 14.6096647  56.6243778 ]\n",
      "Signal offset :  [0.06485748740152097, 0.00016385773942170778, -4.2335717786709526e-05, 0.00020659566381950323]\n",
      "Signal offset :  [0.04044931937760298, -7.514679203607377e-05, 0.00015501705787682174, 0.00010397211222033104]\n",
      "Signal offset :  [0.0702526961484773, 5.4098181862888284e-05, 8.807188020082402e-05, -6.254714455367072e-06]\n"
     ]
    }
   ],
   "source": [
    "# pingers = (x, y, z, frequency(Hz), time-offset from the first pinger(sec))\n",
    "pingers = np.asarray([(0, 0, 2, 20000, 0), (100, 0, 3, 30000, 0.5), (50, 100, 4, 24000, 1.2)])\n",
    "robot = np.random.random(3)*100 # x, y, z position in meters\n",
    "\n",
    "sound_speed = 1481 # (m/s) https://en.wikipedia.org/wiki/Speed_of_sound#Water\n",
    "mic_sample_rate = 1 # Hz\n",
    "\n",
    "print('Robot x, y, z pos: ', robot)\n",
    "\n",
    "# simulate returns each mic's time offsets for each pingers, \n",
    "# given that the pingers have ran for a sufficient time\n",
    "#\n",
    "# mic_positions are offset from the robot's position\n",
    "def simulate(duration=5, mic_positions=np.asarray([(0,0,0)])):\n",
    "    offsets = []\n",
    "    for pinger in pingers:\n",
    "        offsets_per_pinger = []\n",
    "        for mic in mic_positions:\n",
    "            delta = pinger[0:3] - (mic + robot)\n",
    "            dist = np.sqrt(np.dot(delta, delta))\n",
    "            \n",
    "            offsets_per_pinger.append((dist / sound_speed) \n",
    "                                        - (offsets_per_pinger[0] if len(offsets_per_pinger)!=0 else 0))\n",
    "        print(\"Signal offset : \", offsets_per_pinger)\n",
    "        offsets.append(offsets_per_pinger)\n",
    "\n",
    "    return offsets\n",
    "\n",
    "mic_array = np.asarray([(0,0,0), (0.3,0,0), (-0.2,-0.1,0.2), (0.2,0.2,0.2)])\n",
    "offsets = simulate(10, mic_array)"
   ]
  },
  {
   "cell_type": "code",
   "execution_count": null,
   "metadata": {},
   "outputs": [],
   "source": [
    "# Sound source locating algorithm\n",
    "# Page 69: https://apps.dtic.mil/dtic/tr/fulltext/u2/732042.pdf\n"
   ]
  },
  {
   "cell_type": "code",
   "execution_count": null,
   "metadata": {},
   "outputs": [],
   "source": []
  }
 ],
 "metadata": {
  "kernelspec": {
   "display_name": "Python 3",
   "language": "python",
   "name": "python3"
  },
  "language_info": {
   "codemirror_mode": {
    "name": "ipython",
    "version": 3
   },
   "file_extension": ".py",
   "mimetype": "text/x-python",
   "name": "python",
   "nbconvert_exporter": "python",
   "pygments_lexer": "ipython3",
   "version": "3.8.5"
  }
 },
 "nbformat": 4,
 "nbformat_minor": 2
}
